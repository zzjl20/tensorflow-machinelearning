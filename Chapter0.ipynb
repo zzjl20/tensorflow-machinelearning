{
  "nbformat": 4,
  "nbformat_minor": 0,
  "metadata": {
    "colab": {
      "provenance": [],
      "gpuType": "T4",
      "authorship_tag": "ABX9TyN0dOr/sYnXOUwaSYQET095",
      "include_colab_link": true
    },
    "kernelspec": {
      "name": "python3",
      "display_name": "Python 3"
    },
    "language_info": {
      "name": "python"
    },
    "accelerator": "GPU"
  },
  "cells": [
    {
      "cell_type": "markdown",
      "metadata": {
        "id": "view-in-github",
        "colab_type": "text"
      },
      "source": [
        "<a href=\"https://colab.research.google.com/github/zzjl20/tensorflow-machinelearning/blob/main/Chapter0.ipynb\" target=\"_parent\"><img src=\"https://colab.research.google.com/assets/colab-badge.svg\" alt=\"Open In Colab\"/></a>"
      ]
    },
    {
      "cell_type": "markdown",
      "source": [
        "本节与机器学习内容无关，纯粹是搭建运行环境。已经搭好的人可以略过本章。"
      ],
      "metadata": {
        "id": "o762Amz1YLVk"
      }
    },
    {
      "cell_type": "markdown",
      "source": [
        "# super computer的环境\n",
        "首先登录超算的GPU节点：<pre>srum -p gpu-intr --gpus 1 --pty /bin/bash -i</pre>\n",
        "查看当前架构:\n",
        "<pre>arch\n",
        "</pre>\n",
        "返回结果：\n",
        "> x86_64\n",
        "\n"
      ],
      "metadata": {
        "id": "vra4W8QfELD0"
      }
    },
    {
      "cell_type": "markdown",
      "source": [
        "# google colab的jupyter环境\n",
        "注意，要在Edit -> Notebook Settings -> Hardware accelerator 中选择“GPU”."
      ],
      "metadata": {
        "id": "3ZTVIHh_Dy51"
      }
    },
    {
      "cell_type": "markdown",
      "source": [
        "获取当前python以及GPU的情况。"
      ],
      "metadata": {
        "id": "B84KYZOPQH1P"
      }
    },
    {
      "cell_type": "code",
      "source": [
        "!python -V\n",
        "!nvidia-smi"
      ],
      "metadata": {
        "colab": {
          "base_uri": "https://localhost:8080/"
        },
        "id": "WSABYP_8IHTG",
        "outputId": "7f555733-243c-40cc-c0b5-a990011eed6f"
      },
      "execution_count": 1,
      "outputs": [
        {
          "output_type": "stream",
          "name": "stdout",
          "text": [
            "Python 3.11.13\n",
            "Tue Jun 17 04:40:17 2025       \n",
            "+-----------------------------------------------------------------------------------------+\n",
            "| NVIDIA-SMI 550.54.15              Driver Version: 550.54.15      CUDA Version: 12.4     |\n",
            "|-----------------------------------------+------------------------+----------------------+\n",
            "| GPU  Name                 Persistence-M | Bus-Id          Disp.A | Volatile Uncorr. ECC |\n",
            "| Fan  Temp   Perf          Pwr:Usage/Cap |           Memory-Usage | GPU-Util  Compute M. |\n",
            "|                                         |                        |               MIG M. |\n",
            "|=========================================+========================+======================|\n",
            "|   0  Tesla T4                       Off |   00000000:00:04.0 Off |                    0 |\n",
            "| N/A   38C    P8              9W /   70W |       0MiB /  15360MiB |      0%      Default |\n",
            "|                                         |                        |                  N/A |\n",
            "+-----------------------------------------+------------------------+----------------------+\n",
            "                                                                                         \n",
            "+-----------------------------------------------------------------------------------------+\n",
            "| Processes:                                                                              |\n",
            "|  GPU   GI   CI        PID   Type   Process name                              GPU Memory |\n",
            "|        ID   ID                                                               Usage      |\n",
            "|=========================================================================================|\n",
            "|  No running processes found                                                             |\n",
            "+-----------------------------------------------------------------------------------------+\n"
          ]
        }
      ]
    },
    {
      "cell_type": "markdown",
      "source": [
        "在python环境中测试gpu环境。以及CUDA, cuDNN版本。"
      ],
      "metadata": {
        "id": "KmJic72zQNHu"
      }
    },
    {
      "cell_type": "code",
      "source": [
        "import tensorflow as tf\n",
        "print(tf.__version__)\n",
        "print(\"GPU 是否可用:\", tf.config.list_physical_devices('GPU'))\n",
        "print(\"编译时 CUDA 支持:\", tf.sysconfig.get_build_info()['cuda_version'])\n",
        "print(\"编译时 cuDNN 支持:\", tf.sysconfig.get_build_info()['cudnn_version'])\n",
        "\n",
        "from tensorflow.python.client import device_lib\n",
        "devices = device_lib.list_local_devices()"
      ],
      "metadata": {
        "colab": {
          "base_uri": "https://localhost:8080/"
        },
        "id": "HvBvU8y3D7ze",
        "outputId": "39947809-7588-484e-9aee-f236112676f2"
      },
      "execution_count": 2,
      "outputs": [
        {
          "output_type": "stream",
          "name": "stdout",
          "text": [
            "2.18.0\n",
            "GPU 是否可用: [PhysicalDevice(name='/physical_device:GPU:0', device_type='GPU')]\n",
            "编译时 CUDA 支持: 12.5.1\n",
            "编译时 cuDNN 支持: 9\n"
          ]
        }
      ]
    },
    {
      "cell_type": "markdown",
      "source": [
        "测试一下，GPU是否真的投入了使用。"
      ],
      "metadata": {
        "id": "Nn2H2TfgRCnO"
      }
    },
    {
      "cell_type": "code",
      "source": [
        "import tensorflow as tf\n",
        "import timeit\n",
        "import os\n",
        "\n",
        "os.environ['TF_CPP_MIN_LOG_LEVEL'] = '2'\n",
        "\n",
        "with tf.device('/cpu:0'):\n",
        "    cpu_a = tf.random.normal([10000, 1000])\n",
        "    cpu_b = tf.random.normal([1000, 2000])\n",
        "    print(cpu_a.device, cpu_b.device)\n",
        "\n",
        "with tf.device('/gpu:0'):\n",
        "    gpu_a = tf.random.normal([10000, 1000])\n",
        "    gpu_b = tf.random.normal([1000, 2000])\n",
        "    print(gpu_a.device, gpu_b.device)\n",
        "\n",
        "\n",
        "def cpu_run():\n",
        "    with tf.device('/cpu:0'):\n",
        "        c = tf.matmul(cpu_a, cpu_b)\n",
        "    return tf.reduce_sum(c).numpy()\n",
        "\n",
        "\n",
        "def gpu_run():\n",
        "    with tf.device('/gpu:0'):\n",
        "        c = tf.matmul(gpu_a, gpu_b)\n",
        "    return tf.reduce_sum(c).numpy()\n",
        "\n",
        "\n",
        "# warm up\n",
        "cpu_time = timeit.timeit(cpu_run, number=10)\n",
        "gpu_time = timeit.timeit(gpu_run, number=10)\n",
        "print('warmup:', cpu_time, gpu_time)\n",
        "\n",
        "cpu_time = timeit.timeit(cpu_run, number=10)\n",
        "gpu_time = timeit.timeit(gpu_run, number=10)\n",
        "print('run time:', cpu_time, gpu_time)"
      ],
      "metadata": {
        "colab": {
          "base_uri": "https://localhost:8080/"
        },
        "id": "ecyaVWkdRJWE",
        "outputId": "d4386d85-1bac-4f06-b5f9-8de548902866"
      },
      "execution_count": 4,
      "outputs": [
        {
          "output_type": "stream",
          "name": "stdout",
          "text": [
            "/job:localhost/replica:0/task:0/device:CPU:0 /job:localhost/replica:0/task:0/device:CPU:0\n",
            "/job:localhost/replica:0/task:0/device:GPU:0 /job:localhost/replica:0/task:0/device:GPU:0\n",
            "warmup: 3.857086735999985 0.14755917800002294\n",
            "run time: 4.946577391000005 0.1473261280000031\n"
          ]
        }
      ]
    },
    {
      "cell_type": "markdown",
      "source": [
        "在实际执行结果中可看到，大约cpu执行时间是gpu执行时间的20～30倍。证明确实有GPU进入执行了程序。"
      ],
      "metadata": {
        "id": "Q8DvXAZLZOiw"
      }
    }
  ]
}